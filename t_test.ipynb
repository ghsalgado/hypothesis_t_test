{
  "nbformat": 4,
  "nbformat_minor": 0,
  "metadata": {
    "colab": {
      "name": "t_test.ipynb",
      "provenance": []
    },
    "kernelspec": {
      "name": "python3",
      "display_name": "Python 3"
    }
  },
  "cells": [
    {
      "cell_type": "markdown",
      "metadata": {
        "id": "X98REXtWM5g9",
        "colab_type": "text"
      },
      "source": [
        "# Introdução\n",
        "\n",
        "Esse documento possibilita o cálculo de um teste de hipóteses usando t-test. \n",
        "\n",
        "### Instruções de uso:\n",
        "\n",
        "Para utilizá-lo, basta colocar o caminho do arquivo csv na variável \"name_csv\", o nome da coluna de data na variável \"column_date\", a data de início da base de entrada na variável \"init_date\" e a data antes da campanha a ser analisada na variável \"end_date\".\n",
        "\n",
        "Feito isso, basta rodar as células abaixo e ele dirá se a hipótese nula deve ser aceita ou rejeitada."
      ]
    },
    {
      "cell_type": "code",
      "metadata": {
        "id": "glWbYASjKOEN",
        "colab_type": "code",
        "colab": {}
      },
      "source": [
        "# Path do arquivo csv de entrada:\n",
        "name_csv = \"\"\n",
        "\n",
        "# Nome da coluna de data:\n",
        "column_date = \"\"\n",
        "\n",
        "# Primeira data da base:\n",
        "init_date = \"2020-01-01\" #Apenas um exemplo\n",
        "\n",
        "# Data do evento a ser analisado (a campanha, por exemplo).\n",
        "end_date = \"2020-04-22\" #Apenas um exemplo\n",
        "\n",
        "# P-valor aceitável\n",
        "\n",
        "p_value = 0.05\n",
        "\n",
        "\n",
        "\n"
      ],
      "execution_count": 0,
      "outputs": []
    },
    {
      "cell_type": "code",
      "metadata": {
        "id": "hzgczNIyMDM0",
        "colab_type": "code",
        "colab": {}
      },
      "source": [
        "from scipy.stats import ttest_ind\n",
        "import numpy as np"
      ],
      "execution_count": 0,
      "outputs": []
    },
    {
      "cell_type": "code",
      "metadata": {
        "id": "67SqXFGuJw35",
        "colab_type": "code",
        "colab": {}
      },
      "source": [
        "# Lendo o arquivo csv\n",
        "df = pd.read_csv(name_csv)\n",
        "\n",
        "# Transformando a coluna de data em datetime\n",
        "df[column_date] = pd.to_datetime(df[column_date], infer_datetime_format=True)\n",
        "\n",
        "# Setando a coluna de data como indice\n",
        "df.set_index(column_date, inplace=True)\n",
        "\n",
        "df1 = df.loc[init_date:end_date,:]\n",
        "\n",
        "df2 = df.loc[end_date:,:]\n",
        "\n"
      ],
      "execution_count": 0,
      "outputs": []
    },
    {
      "cell_type": "code",
      "metadata": {
        "id": "7eXUzD_uMBjW",
        "colab_type": "code",
        "colab": {}
      },
      "source": [
        "print(df1)\n",
        "print(df2)\n",
        "df1_mean = np.mean(df1)\n",
        "df2_mean = np.mean(df2)\n",
        "print(\"df1 mean value:\",df1_mean)\n",
        "print(\"df2 mean value:\",df2_mean)\n",
        "df1_std = np.std(df1)\n",
        "df2_std = np.std(df2)\n",
        "print(\"df1 std value:\",df1_std)\n",
        "print(\"df2 std value:\",df2_std)\n",
        "ttest,pval = ttest_ind(df1,df2)\n",
        "print(\"p-value\",pval)\n",
        "if pval < p_value:\n",
        "  print(\"Rejeita a hipótese nula (houve variação significativa)\")\n",
        "else:\n",
        "  print(\"Aceita a hipótese nula (não houve variação significativa)\")"
      ],
      "execution_count": 0,
      "outputs": []
    }
  ]
}